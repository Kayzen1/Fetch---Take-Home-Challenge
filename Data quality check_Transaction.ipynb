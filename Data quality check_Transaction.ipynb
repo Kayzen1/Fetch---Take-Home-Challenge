{
 "cells": [
  {
   "cell_type": "markdown",
   "metadata": {},
   "source": [
    "**Assumption**\n",
    "\n",
    "RECEIPT_ID should be the primary key\n",
    "\n",
    "USER_ID and BARCODE should be the foreign key."
   ]
  },
  {
   "cell_type": "code",
   "execution_count": 1,
   "metadata": {},
   "outputs": [],
   "source": [
    "# Data Quality Check for TRANSACTION_TAKEHOME\n",
    "import pandas as pd\n",
    "import matplotlib.pyplot as plt\n",
    "import seaborn as sns"
   ]
  },
  {
   "cell_type": "code",
   "execution_count": 2,
   "metadata": {},
   "outputs": [],
   "source": [
    "# Load User and Products table for reference check\n",
    "df_product = pd.read_csv(\"cleaned_product_takehome.csv\")\n",
    "df_user = pd.read_csv(\"cleaned_user_takehome.csv\")"
   ]
  },
  {
   "cell_type": "code",
   "execution_count": 3,
   "metadata": {},
   "outputs": [
    {
     "data": {
      "text/html": [
       "<div>\n",
       "<style scoped>\n",
       "    .dataframe tbody tr th:only-of-type {\n",
       "        vertical-align: middle;\n",
       "    }\n",
       "\n",
       "    .dataframe tbody tr th {\n",
       "        vertical-align: top;\n",
       "    }\n",
       "\n",
       "    .dataframe thead th {\n",
       "        text-align: right;\n",
       "    }\n",
       "</style>\n",
       "<table border=\"1\" class=\"dataframe\">\n",
       "  <thead>\n",
       "    <tr style=\"text-align: right;\">\n",
       "      <th></th>\n",
       "      <th>RECEIPT_ID</th>\n",
       "      <th>PURCHASE_DATE</th>\n",
       "      <th>SCAN_DATE</th>\n",
       "      <th>STORE_NAME</th>\n",
       "      <th>USER_ID</th>\n",
       "      <th>BARCODE</th>\n",
       "      <th>FINAL_QUANTITY</th>\n",
       "      <th>FINAL_SALE</th>\n",
       "    </tr>\n",
       "  </thead>\n",
       "  <tbody>\n",
       "    <tr>\n",
       "      <th>0</th>\n",
       "      <td>0000d256-4041-4a3e-adc4-5623fb6e0c99</td>\n",
       "      <td>2024-08-21</td>\n",
       "      <td>2024-08-21 14:19:06.539 Z</td>\n",
       "      <td>WALMART</td>\n",
       "      <td>63b73a7f3d310dceeabd4758</td>\n",
       "      <td>1.530001e+10</td>\n",
       "      <td>1.00</td>\n",
       "      <td></td>\n",
       "    </tr>\n",
       "    <tr>\n",
       "      <th>1</th>\n",
       "      <td>0001455d-7a92-4a7b-a1d2-c747af1c8fd3</td>\n",
       "      <td>2024-07-20</td>\n",
       "      <td>2024-07-20 09:50:24.206 Z</td>\n",
       "      <td>ALDI</td>\n",
       "      <td>62c08877baa38d1a1f6c211a</td>\n",
       "      <td>NaN</td>\n",
       "      <td>zero</td>\n",
       "      <td>1.49</td>\n",
       "    </tr>\n",
       "    <tr>\n",
       "      <th>2</th>\n",
       "      <td>00017e0a-7851-42fb-bfab-0baa96e23586</td>\n",
       "      <td>2024-08-18</td>\n",
       "      <td>2024-08-19 15:38:56.813 Z</td>\n",
       "      <td>WALMART</td>\n",
       "      <td>60842f207ac8b7729e472020</td>\n",
       "      <td>7.874223e+10</td>\n",
       "      <td>1.00</td>\n",
       "      <td></td>\n",
       "    </tr>\n",
       "    <tr>\n",
       "      <th>3</th>\n",
       "      <td>000239aa-3478-453d-801e-66a82e39c8af</td>\n",
       "      <td>2024-06-18</td>\n",
       "      <td>2024-06-19 11:03:37.468 Z</td>\n",
       "      <td>FOOD LION</td>\n",
       "      <td>63fcd7cea4f8442c3386b589</td>\n",
       "      <td>7.833997e+11</td>\n",
       "      <td>zero</td>\n",
       "      <td>3.49</td>\n",
       "    </tr>\n",
       "    <tr>\n",
       "      <th>4</th>\n",
       "      <td>00026b4c-dfe8-49dd-b026-4c2f0fd5c6a1</td>\n",
       "      <td>2024-07-04</td>\n",
       "      <td>2024-07-05 15:56:43.549 Z</td>\n",
       "      <td>RANDALLS</td>\n",
       "      <td>6193231ae9b3d75037b0f928</td>\n",
       "      <td>4.790050e+10</td>\n",
       "      <td>1.00</td>\n",
       "      <td></td>\n",
       "    </tr>\n",
       "  </tbody>\n",
       "</table>\n",
       "</div>"
      ],
      "text/plain": [
       "                             RECEIPT_ID PURCHASE_DATE  \\\n",
       "0  0000d256-4041-4a3e-adc4-5623fb6e0c99    2024-08-21   \n",
       "1  0001455d-7a92-4a7b-a1d2-c747af1c8fd3    2024-07-20   \n",
       "2  00017e0a-7851-42fb-bfab-0baa96e23586    2024-08-18   \n",
       "3  000239aa-3478-453d-801e-66a82e39c8af    2024-06-18   \n",
       "4  00026b4c-dfe8-49dd-b026-4c2f0fd5c6a1    2024-07-04   \n",
       "\n",
       "                   SCAN_DATE STORE_NAME                   USER_ID  \\\n",
       "0  2024-08-21 14:19:06.539 Z    WALMART  63b73a7f3d310dceeabd4758   \n",
       "1  2024-07-20 09:50:24.206 Z       ALDI  62c08877baa38d1a1f6c211a   \n",
       "2  2024-08-19 15:38:56.813 Z    WALMART  60842f207ac8b7729e472020   \n",
       "3  2024-06-19 11:03:37.468 Z  FOOD LION  63fcd7cea4f8442c3386b589   \n",
       "4  2024-07-05 15:56:43.549 Z   RANDALLS  6193231ae9b3d75037b0f928   \n",
       "\n",
       "        BARCODE FINAL_QUANTITY FINAL_SALE  \n",
       "0  1.530001e+10           1.00             \n",
       "1           NaN           zero       1.49  \n",
       "2  7.874223e+10           1.00             \n",
       "3  7.833997e+11           zero       3.49  \n",
       "4  4.790050e+10           1.00             "
      ]
     },
     "execution_count": 3,
     "metadata": {},
     "output_type": "execute_result"
    }
   ],
   "source": [
    "df_transaction = pd.read_csv(\"TRANSACTION_TAKEHOME.csv\")\n",
    "df_transaction.head()"
   ]
  },
  {
   "cell_type": "code",
   "execution_count": 4,
   "metadata": {},
   "outputs": [
    {
     "name": "stdout",
     "output_type": "stream",
     "text": [
      "<class 'pandas.core.frame.DataFrame'>\n",
      "RangeIndex: 50000 entries, 0 to 49999\n",
      "Data columns (total 8 columns):\n",
      " #   Column          Non-Null Count  Dtype  \n",
      "---  ------          --------------  -----  \n",
      " 0   RECEIPT_ID      50000 non-null  object \n",
      " 1   PURCHASE_DATE   50000 non-null  object \n",
      " 2   SCAN_DATE       50000 non-null  object \n",
      " 3   STORE_NAME      50000 non-null  object \n",
      " 4   USER_ID         50000 non-null  object \n",
      " 5   BARCODE         44238 non-null  float64\n",
      " 6   FINAL_QUANTITY  50000 non-null  object \n",
      " 7   FINAL_SALE      50000 non-null  object \n",
      "dtypes: float64(1), object(7)\n",
      "memory usage: 3.1+ MB\n"
     ]
    }
   ],
   "source": [
    "df_transaction.info()"
   ]
  },
  {
   "cell_type": "code",
   "execution_count": 5,
   "metadata": {},
   "outputs": [
    {
     "name": "stdout",
     "output_type": "stream",
     "text": [
      "Missing Values:\n",
      " RECEIPT_ID           0\n",
      "PURCHASE_DATE        0\n",
      "SCAN_DATE            0\n",
      "STORE_NAME           0\n",
      "USER_ID              0\n",
      "BARCODE           5762\n",
      "FINAL_QUANTITY       0\n",
      "FINAL_SALE           0\n",
      "dtype: int64\n"
     ]
    }
   ],
   "source": [
    "# Check for missing values\n",
    "missing_values = df_transaction.isnull().sum()\n",
    "print(\"Missing Values:\\n\", missing_values)"
   ]
  },
  {
   "cell_type": "code",
   "execution_count": 6,
   "metadata": {},
   "outputs": [
    {
     "name": "stdout",
     "output_type": "stream",
     "text": [
      "Column Data Types:\n",
      " RECEIPT_ID         object\n",
      "PURCHASE_DATE      object\n",
      "SCAN_DATE          object\n",
      "STORE_NAME         object\n",
      "USER_ID            object\n",
      "BARCODE           float64\n",
      "FINAL_QUANTITY     object\n",
      "FINAL_SALE         object\n",
      "dtype: object\n"
     ]
    }
   ],
   "source": [
    "# Verify column data types\n",
    "print(\"Column Data Types:\\n\", df_transaction.dtypes)"
   ]
  },
  {
   "cell_type": "markdown",
   "metadata": {},
   "source": [
    "**Quality issues I found**:\n",
    "1. Accroding to the ER Diagram, PURCHASE_DATE and SCAN_DATE should be DATETIME\n",
    "\n",
    "2. BARCODE should be INTEGER\n",
    "\n",
    "3. FINAL_QUANTITY and FINAL_SALE should be NUMERIC.\n",
    "\n"
   ]
  },
  {
   "cell_type": "code",
   "execution_count": 7,
   "metadata": {},
   "outputs": [],
   "source": [
    "# Data Cleaning\n",
    "df_transaction['PURCHASE_DATE'] = pd.to_datetime(df_transaction['PURCHASE_DATE'], errors='coerce').dt.date\n",
    "df_transaction['SCAN_DATE'] = pd.to_datetime(df_transaction['SCAN_DATE'], errors='coerce').dt.date\n",
    "df_transaction = df_transaction.drop_duplicates(subset=['BARCODE']).dropna(subset=['BARCODE'])\n",
    "df_transaction['BARCODE'] = df_transaction['BARCODE'].astype(int)"
   ]
  },
  {
   "cell_type": "code",
   "execution_count": null,
   "metadata": {},
   "outputs": [],
   "source": []
  },
  {
   "cell_type": "code",
   "execution_count": 8,
   "metadata": {},
   "outputs": [
    {
     "name": "stdout",
     "output_type": "stream",
     "text": [
      "Number of Duplicate RECEIPT_IDs: 99\n"
     ]
    }
   ],
   "source": [
    "# Check for duplicates\n",
    "duplicate_rows = df_transaction.duplicated(subset=['RECEIPT_ID']).sum()\n",
    "print(\"Number of Duplicate RECEIPT_IDs:\", duplicate_rows)\n"
   ]
  },
  {
   "cell_type": "markdown",
   "metadata": {},
   "source": [
    "**Thoughts**\n",
    "\n",
    "The number of duplicate RECEIPT_ID is 25560 (nearly 50%). There's something wrong with this column."
   ]
  },
  {
   "cell_type": "markdown",
   "metadata": {},
   "source": [
    "**Quality issues I found**\n",
    "\n",
    "I used Excel to filter out the RECEIPT_ID and found out each RECEIPT_ID appears twice, with the only difference being either:\n",
    "\n",
    "1. FINAL_QUANTITY values (zero vs. any number ). \"zero\" should be changed to \"0\"\n",
    "\n",
    "2. FINAL_SALE values (blank vs. any number). Blanks should be changed to \"0\"\n",
    "\n",
    "**Assumptions**\n",
    "There's something wrong with the ingestion. Need to merge.\n"
   ]
  },
  {
   "cell_type": "code",
   "execution_count": 9,
   "metadata": {},
   "outputs": [
    {
     "name": "stdout",
     "output_type": "stream",
     "text": [
      "Number of transactions with FINAL_SALE = 0: 21\n"
     ]
    }
   ],
   "source": [
    "# Count the number of transactions where FINAL_SALE is 0\n",
    "df_transaction['FINAL_SALE'] = pd.to_numeric(df_transaction['FINAL_SALE'], errors='coerce')\n",
    "final_sale_zero_count = (df_transaction['FINAL_SALE'] == 0).sum()\n",
    "\n",
    "print(f\"Number of transactions with FINAL_SALE = 0: {final_sale_zero_count}\")\n"
   ]
  },
  {
   "cell_type": "code",
   "execution_count": 10,
   "metadata": {},
   "outputs": [],
   "source": [
    "# Remove rows where FINAL_QUANTITY is \"zero\" or FINAL_SALE is blank\n",
    "df_transaction = df_transaction[(df_transaction['FINAL_QUANTITY'] != \"zero\") & (df_transaction['FINAL_SALE'] != \"\")]\n",
    "\n",
    "# Convert FINAL_QUANTITY and FINAL_SALE to numeric\n",
    "df_transaction['FINAL_QUANTITY'] = pd.to_numeric(df_transaction['FINAL_QUANTITY'], errors='coerce')\n",
    "df_transaction['FINAL_SALE'] = pd.to_numeric(df_transaction['FINAL_SALE'], errors='coerce')\n",
    "\n",
    "# Keep only one row per RECEIPT_ID and BARCODE where FINAL_QUANTITY and FINAL_SALE both have numeric values\n",
    "df_transaction = df_transaction.dropna(subset=['FINAL_QUANTITY', 'FINAL_SALE'])\n",
    "df_transaction = df_transaction.drop_duplicates(subset=['RECEIPT_ID', 'BARCODE'], keep='first')"
   ]
  },
  {
   "cell_type": "code",
   "execution_count": 11,
   "metadata": {},
   "outputs": [
    {
     "data": {
      "image/png": "[encoded data removed]",
      "text/plain": [
       "<Figure size 800x500 with 1 Axes>"
      ]
     },
     "metadata": {},
     "output_type": "display_data"
    }
   ],
   "source": [
    "# Scatter plot to check relationship and spot potential outliers\n",
    "plt.figure(figsize=(8, 5))\n",
    "sns.scatterplot(x=df_transaction['FINAL_QUANTITY'], y=df_transaction['FINAL_SALE'], alpha=0.5)\n",
    "plt.title(\"FINAL_QUANTITY vs FINAL_SALE (Outlier Detection)\")\n",
    "plt.xlabel(\"Final Quantity\")\n",
    "plt.ylabel(\"Final Sale Price\")\n",
    "plt.show()"
   ]
  },
  {
   "cell_type": "markdown",
   "metadata": {},
   "source": [
    "**Quality issues I found**:\n",
    "\n",
    "- FINAL_SALE\n",
    "\n",
    "*Issue*: A few transactions have very high FINAL_SALE values (above 400), which is significantly larger than most other values.\n",
    "\n",
    "*Could do*: Investigate transactions with FINAL_SALE > 400 – Check if they were entered correctly or if they belong to a different currency/price tier.\n",
    "\n",
    "- FINAL_QUANTITY\n",
    "\n",
    "*Issue*: There is a point where FINAL_QUANTITY exceeds 250, which is significantly higher than the majority of transactions.\n",
    "\n",
    "*Could do*: Review transactions with FINAL_QUANTITY > 100 – Determine if units were misrecorded."
   ]
  },
  {
   "cell_type": "code",
   "execution_count": 12,
   "metadata": {},
   "outputs": [
    {
     "name": "stdout",
     "output_type": "stream",
     "text": [
      "Invalid Date Records (PURCHASE_DATE > SCAN_DATE): 0\n"
     ]
    }
   ],
   "source": [
    "# Check date consistency\n",
    "df_transaction['PURCHASE_DATE'] = pd.to_datetime(df_transaction['PURCHASE_DATE']).dt.date\n",
    "df_transaction['SCAN_DATE'] = pd.to_datetime(df_transaction['SCAN_DATE']).dt.date\n",
    "invalid_dates = df_transaction[df_transaction['PURCHASE_DATE'] > df_transaction['SCAN_DATE']]\n",
    "print(\"Invalid Date Records (PURCHASE_DATE > SCAN_DATE):\", invalid_dates.shape[0])"
   ]
  },
  {
   "cell_type": "markdown",
   "metadata": {},
   "source": [
    "**Quality issues I found**:\n",
    "\n",
    "1. There are 94 records where PURCHASE_DATE is after SCAN_DATE, which is logically incorrect because a transaction cannot be scanned before it is purchased."
   ]
  },
  {
   "cell_type": "markdown",
   "metadata": {},
   "source": [
    "**Thoughts**\n",
    "\n",
    "In the TRANSACTION dataset, USER_ID and BARCODE act as foreign keys that reference the USER and PRODUCTS datasets, respectively. Performing a reference check is essential to maintain data integrity and ensure the correctness of our analysis."
   ]
  },
  {
   "cell_type": "code",
   "execution_count": 13,
   "metadata": {},
   "outputs": [
    {
     "name": "stdout",
     "output_type": "stream",
     "text": [
      "Invalid User IDs in Transactions (Not Found in User Dataset): 0\n",
      "Invalid product barcode in Transactions (Not Found in Products Dataset): 0\n"
     ]
    }
   ],
   "source": [
    "# Reference Check \n",
    "missing_user_ids = df_transaction[~df_transaction['USER_ID'].isin(df_user['ID'])]['USER_ID'].nunique()\n",
    "print(\"Invalid User IDs in Transactions (Not Found in User Dataset):\", missing_user_ids)\n",
    "\n",
    "missing_product_barcode = df_transaction[~df_transaction['BARCODE'].isin(df_product['BARCODE'])]['BARCODE'].nunique()\n",
    "print(\"Invalid product barcode in Transactions (Not Found in Products Dataset):\", missing_product_barcode)"
   ]
  },
  {
   "cell_type": "markdown",
   "metadata": {},
   "source": [
    "**Quality issues I found**:\n",
    "1. 17,603 transactions contain USER_IDs that do not exist in the user dataset.\n",
    "\n",
    "2. 11,028 transactions reference BARCODEs that do not exist in the product dataset.\n",
    "\n",
    "**Assumptions**\n",
    "\n",
    "User Data Issues:\n",
    "- Users may have been deleted or not properly recorded in the user dataset.\n",
    "\n",
    "Product Data Issues:\n",
    "- The product dataset may be incomplete or not fully updated with all listed items."
   ]
  },
  {
   "cell_type": "code",
   "execution_count": 14,
   "metadata": {},
   "outputs": [
    {
     "name": "stdout",
     "output_type": "stream",
     "text": [
      "Summary Statistics:\n",
      "        RECEIPT_ID PURCHASE_DATE SCAN_DATE STORE_NAME USER_ID  BARCODE  \\\n",
      "count           0             0         0          0       0      0.0   \n",
      "unique          0             0         0          0       0      NaN   \n",
      "top           NaN           NaN       NaN        NaN     NaN      NaN   \n",
      "freq          NaN           NaN       NaN        NaN     NaN      NaN   \n",
      "mean          NaN           NaN       NaN        NaN     NaN      NaN   \n",
      "std           NaN           NaN       NaN        NaN     NaN      NaN   \n",
      "min           NaN           NaN       NaN        NaN     NaN      NaN   \n",
      "25%           NaN           NaN       NaN        NaN     NaN      NaN   \n",
      "50%           NaN           NaN       NaN        NaN     NaN      NaN   \n",
      "75%           NaN           NaN       NaN        NaN     NaN      NaN   \n",
      "max           NaN           NaN       NaN        NaN     NaN      NaN   \n",
      "\n",
      "        FINAL_QUANTITY  FINAL_SALE  \n",
      "count              0.0         0.0  \n",
      "unique             NaN         NaN  \n",
      "top                NaN         NaN  \n",
      "freq               NaN         NaN  \n",
      "mean               NaN         NaN  \n",
      "std                NaN         NaN  \n",
      "min                NaN         NaN  \n",
      "25%                NaN         NaN  \n",
      "50%                NaN         NaN  \n",
      "75%                NaN         NaN  \n",
      "max                NaN         NaN  \n"
     ]
    }
   ],
   "source": [
    "# Summary statistics\n",
    "print(\"Summary Statistics:\\n\", df_transaction.describe(include='all'))"
   ]
  },
  {
   "cell_type": "code",
   "execution_count": 15,
   "metadata": {},
   "outputs": [],
   "source": [
    "df_transaction.to_csv(\"cleaned_transaction_takehome.csv\", index=False)"
   ]
  }
 ],
 "metadata": {
  "kernelspec": {
   "display_name": "base",
   "language": "python",
   "name": "python3"
  },
  "language_info": {
   "codemirror_mode": {
    "name": "ipython",
    "version": 3
   },
   "file_extension": ".py",
   "mimetype": "text/x-python",
   "name": "python",
   "nbconvert_exporter": "python",
   "pygments_lexer": "ipython3",
   "version": "3.9.13"
  }
 },
 "nbformat": 4,
 "nbformat_minor": 2
}
