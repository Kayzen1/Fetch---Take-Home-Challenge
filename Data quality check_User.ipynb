{
 "cells": [
  {
   "cell_type": "markdown",
   "metadata": {},
   "source": [
    "**Assumption**\n",
    "\n",
    "ID should be the primary key since the relationship between USERS table and TRANSACTIONS table is 1 to Many."
   ]
  },
  {
   "cell_type": "code",
   "execution_count": 1,
   "metadata": {},
   "outputs": [],
   "source": [
    "# Data Quality Check for USER_TAKEHOME\n",
    "import pandas as pd\n",
    "from datetime import datetime\n",
    "\n",
    "df_user = pd.read_csv(\"USER_TAKEHOME.csv\")"
   ]
  },
  {
   "cell_type": "code",
   "execution_count": 2,
   "metadata": {},
   "outputs": [
    {
     "data": {
      "text/html": [
       "<div>\n",
       "<style scoped>\n",
       "    .dataframe tbody tr th:only-of-type {\n",
       "        vertical-align: middle;\n",
       "    }\n",
       "\n",
       "    .dataframe tbody tr th {\n",
       "        vertical-align: top;\n",
       "    }\n",
       "\n",
       "    .dataframe thead th {\n",
       "        text-align: right;\n",
       "    }\n",
       "</style>\n",
       "<table border=\"1\" class=\"dataframe\">\n",
       "  <thead>\n",
       "    <tr style=\"text-align: right;\">\n",
       "      <th></th>\n",
       "      <th>ID</th>\n",
       "      <th>CREATED_DATE</th>\n",
       "      <th>BIRTH_DATE</th>\n",
       "      <th>STATE</th>\n",
       "      <th>LANGUAGE</th>\n",
       "      <th>GENDER</th>\n",
       "    </tr>\n",
       "  </thead>\n",
       "  <tbody>\n",
       "    <tr>\n",
       "      <th>0</th>\n",
       "      <td>5ef3b4f17053ab141787697d</td>\n",
       "      <td>2020-06-24 20:17:54.000 Z</td>\n",
       "      <td>2000-08-11 00:00:00.000 Z</td>\n",
       "      <td>CA</td>\n",
       "      <td>es-419</td>\n",
       "      <td>female</td>\n",
       "    </tr>\n",
       "    <tr>\n",
       "      <th>1</th>\n",
       "      <td>5ff220d383fcfc12622b96bc</td>\n",
       "      <td>2021-01-03 19:53:55.000 Z</td>\n",
       "      <td>2001-09-24 04:00:00.000 Z</td>\n",
       "      <td>PA</td>\n",
       "      <td>en</td>\n",
       "      <td>female</td>\n",
       "    </tr>\n",
       "    <tr>\n",
       "      <th>2</th>\n",
       "      <td>6477950aa55bb77a0e27ee10</td>\n",
       "      <td>2023-05-31 18:42:18.000 Z</td>\n",
       "      <td>1994-10-28 00:00:00.000 Z</td>\n",
       "      <td>FL</td>\n",
       "      <td>es-419</td>\n",
       "      <td>female</td>\n",
       "    </tr>\n",
       "    <tr>\n",
       "      <th>3</th>\n",
       "      <td>658a306e99b40f103b63ccf8</td>\n",
       "      <td>2023-12-26 01:46:22.000 Z</td>\n",
       "      <td>NaN</td>\n",
       "      <td>NC</td>\n",
       "      <td>en</td>\n",
       "      <td>NaN</td>\n",
       "    </tr>\n",
       "    <tr>\n",
       "      <th>4</th>\n",
       "      <td>653cf5d6a225ea102b7ecdc2</td>\n",
       "      <td>2023-10-28 11:51:50.000 Z</td>\n",
       "      <td>1972-03-19 00:00:00.000 Z</td>\n",
       "      <td>PA</td>\n",
       "      <td>en</td>\n",
       "      <td>female</td>\n",
       "    </tr>\n",
       "  </tbody>\n",
       "</table>\n",
       "</div>"
      ],
      "text/plain": [
       "                         ID               CREATED_DATE  \\\n",
       "0  5ef3b4f17053ab141787697d  2020-06-24 20:17:54.000 Z   \n",
       "1  5ff220d383fcfc12622b96bc  2021-01-03 19:53:55.000 Z   \n",
       "2  6477950aa55bb77a0e27ee10  2023-05-31 18:42:18.000 Z   \n",
       "3  658a306e99b40f103b63ccf8  2023-12-26 01:46:22.000 Z   \n",
       "4  653cf5d6a225ea102b7ecdc2  2023-10-28 11:51:50.000 Z   \n",
       "\n",
       "                  BIRTH_DATE STATE LANGUAGE  GENDER  \n",
       "0  2000-08-11 00:00:00.000 Z    CA   es-419  female  \n",
       "1  2001-09-24 04:00:00.000 Z    PA       en  female  \n",
       "2  1994-10-28 00:00:00.000 Z    FL   es-419  female  \n",
       "3                        NaN    NC       en     NaN  \n",
       "4  1972-03-19 00:00:00.000 Z    PA       en  female  "
      ]
     },
     "execution_count": 2,
     "metadata": {},
     "output_type": "execute_result"
    }
   ],
   "source": [
    "df_user.head()"
   ]
  },
  {
   "cell_type": "code",
   "execution_count": 3,
   "metadata": {},
   "outputs": [
    {
     "name": "stdout",
     "output_type": "stream",
     "text": [
      "<class 'pandas.core.frame.DataFrame'>\n",
      "RangeIndex: 100000 entries, 0 to 99999\n",
      "Data columns (total 6 columns):\n",
      " #   Column        Non-Null Count   Dtype \n",
      "---  ------        --------------   ----- \n",
      " 0   ID            100000 non-null  object\n",
      " 1   CREATED_DATE  100000 non-null  object\n",
      " 2   BIRTH_DATE    96325 non-null   object\n",
      " 3   STATE         95188 non-null   object\n",
      " 4   LANGUAGE      69492 non-null   object\n",
      " 5   GENDER        94108 non-null   object\n",
      "dtypes: object(6)\n",
      "memory usage: 4.6+ MB\n"
     ]
    }
   ],
   "source": [
    "df_user.info()"
   ]
  },
  {
   "cell_type": "code",
   "execution_count": 4,
   "metadata": {},
   "outputs": [
    {
     "name": "stdout",
     "output_type": "stream",
     "text": [
      "Missing Values:\n",
      " ID                  0\n",
      "CREATED_DATE        0\n",
      "BIRTH_DATE       3675\n",
      "STATE            4812\n",
      "LANGUAGE        30508\n",
      "GENDER           5892\n",
      "dtype: int64\n"
     ]
    }
   ],
   "source": [
    "# Check for missing values\n",
    "missing_values = df_user.isnull().sum()\n",
    "print(\"Missing Values:\\n\", missing_values)"
   ]
  },
  {
   "cell_type": "markdown",
   "metadata": {},
   "source": [
    "**Quality issues I found**:\n",
    "1. From Dtype column, we can see CREATED_DATE and BIRTH_DATE are stored as objects (strings) instead of datetime. Should change to datetime\n",
    "\n",
    "2. BIRTH_DATE (3,675 missing), STATE (4,812 missing), LANGUAGE (30,508 missing), GENDER (5,892 missing)."
   ]
  },
  {
   "cell_type": "code",
   "execution_count": 5,
   "metadata": {},
   "outputs": [
    {
     "data": {
      "text/plain": [
       "0        2000-08-11 00:00:00.000 Z\n",
       "1        2001-09-24 04:00:00.000 Z\n",
       "2        1994-10-28 00:00:00.000 Z\n",
       "3                              NaN\n",
       "4        1972-03-19 00:00:00.000 Z\n",
       "                   ...            \n",
       "99995    1992-03-16 08:00:00.000 Z\n",
       "99996    1993-09-23 05:00:00.000 Z\n",
       "99997    1983-04-19 00:00:00.000 Z\n",
       "99998    1995-06-09 04:00:00.000 Z\n",
       "99999    1995-12-15 05:00:00.000 Z\n",
       "Name: BIRTH_DATE, Length: 100000, dtype: object"
      ]
     },
     "execution_count": 5,
     "metadata": {},
     "output_type": "execute_result"
    }
   ],
   "source": [
    "df_user['BIRTH_DATE']"
   ]
  },
  {
   "cell_type": "code",
   "execution_count": 6,
   "metadata": {},
   "outputs": [],
   "source": [
    "# Data Cleaning\n",
    "df_user['CREATED_DATE'] = pd.to_datetime(df_user['CREATED_DATE'], errors='coerce')\n",
    "df_user['BIRTH_DATE'] = pd.to_datetime(df_user['BIRTH_DATE'], errors='coerce')"
   ]
  },
  {
   "cell_type": "code",
   "execution_count": 7,
   "metadata": {},
   "outputs": [
    {
     "name": "stdout",
     "output_type": "stream",
     "text": [
      "Number of Duplicate User IDs: 0\n"
     ]
    }
   ],
   "source": [
    "# 2. Check for duplicates\n",
    "duplicate_rows = df_user.duplicated(subset=['ID']).sum()\n",
    "print(\"Number of Duplicate User IDs:\", duplicate_rows)"
   ]
  },
  {
   "cell_type": "code",
   "execution_count": 8,
   "metadata": {},
   "outputs": [
    {
     "name": "stdout",
     "output_type": "stream",
     "text": [
      "Invalid Birth Dates (Future Dates): 0\n"
     ]
    }
   ],
   "source": [
    "# Check for invalid birth dates\n",
    "# Need to make sure the birth date should not in the future\n",
    "df_user['BIRTH_DATE'] = pd.to_datetime(df_user['BIRTH_DATE'], errors='coerce').dt.date\n",
    "future_birth_dates = df_user[df_user['BIRTH_DATE'] > pd.to_datetime('today').date()]\n",
    "print(\"Invalid Birth Dates (Future Dates):\", future_birth_dates.shape[0])"
   ]
  },
  {
   "cell_type": "code",
   "execution_count": 9,
   "metadata": {},
   "outputs": [
    {
     "name": "stdout",
     "output_type": "stream",
     "text": [
      "Unique Values in STATE: 52\n",
      "Unique Values in LANGUAGE: 2\n",
      "Unique Values in GENDER: 11\n"
     ]
    }
   ],
   "source": [
    "# Validate categorical fields\n",
    "categorical_fields = ['STATE', 'LANGUAGE', 'GENDER']\n",
    "for col in categorical_fields:\n",
    "    unique_values = df_user[col].nunique()\n",
    "    print(f\"Unique Values in {col}: {unique_values}\")"
   ]
  },
  {
   "cell_type": "markdown",
   "metadata": {},
   "source": [
    "**Thoughts**:\n",
    "We can see GENDER has 11 unique values. I want to see if there is any typo or different answers but include in a same type"
   ]
  },
  {
   "cell_type": "code",
   "execution_count": 10,
   "metadata": {},
   "outputs": [
    {
     "name": "stdout",
     "output_type": "stream",
     "text": [
      "Unique Genders: ['female' 'male' 'non_binary' 'transgender' 'prefer_not_to_say'\n",
      " 'not_listed' 'Non-Binary' 'unknown' 'not_specified'\n",
      " \"My gender isn't listed\" 'Prefer not to say']\n",
      "Unique Languages: ['es-419' 'en']\n"
     ]
    }
   ],
   "source": [
    "# Unique values for gender\n",
    "unique_genders = df_user['GENDER'].dropna().unique()\n",
    "print(\"Unique Genders:\", unique_genders)\n",
    "\n",
    "# Unique values for language\n",
    "unique_languages = df_user['LANGUAGE'].dropna().unique()\n",
    "print(\"Unique Languages:\", unique_languages)"
   ]
  },
  {
   "cell_type": "markdown",
   "metadata": {},
   "source": [
    "**Quality issues I found**:\n",
    "1. 'prefer_not_to_say', 'Prefer not to say', 'not_specified', 'unknown' should be standardized to a single category, e.g., 'prefer_not_to_say'\n",
    "\n",
    "2. 'not_listed' vs. \"My gender isn't listed\" should be merged into one category like \"not listed\"\n",
    "\n",
    "3. 'non_binary' and 'Non-Binary', and 'prefer_not_to_say' and 'Prefer not to say' should be the same. Convert all values to lowercase for consistency"
   ]
  },
  {
   "cell_type": "code",
   "execution_count": 11,
   "metadata": {},
   "outputs": [],
   "source": [
    "# Data Cleaning\n",
    "\n",
    "# Convert all values in the 'GENDER' column to lowercase for consistency\n",
    "df_user['GENDER'] = df_user['GENDER'].str.lower().str.strip()\n",
    "\n",
    "# Standardization Mapping\n",
    "gender_mapping = {\n",
    "    \"prefer not to say\": \"prefer_not_to_say\",\n",
    "    \"not_specified\": \"prefer_not_to_say\",\n",
    "    \"unknown\": \"prefer_not_to_say\",\n",
    "    \"not listed\": \"not_listed\",\n",
    "    \"my gender isn't listed\": \"not_listed\",\n",
    "    \"non-binary\": \"non_binary\"\n",
    "}\n",
    "\n",
    "# Apply mapping\n",
    "df_user['GENDER'] = df_user['GENDER'].replace(gender_mapping)"
   ]
  },
  {
   "cell_type": "code",
   "execution_count": 12,
   "metadata": {},
   "outputs": [],
   "source": [
    "## Add age column to the dataframe\n",
    "df_user['BIRTH_DATE'] = pd.to_datetime(df_user['BIRTH_DATE'], errors='coerce')\n",
    "df_user['AGE'] = df_user['BIRTH_DATE'].apply(lambda x: datetime.now().year - x.year if pd.notnull(x) else None)"
   ]
  },
  {
   "cell_type": "code",
   "execution_count": 13,
   "metadata": {},
   "outputs": [
    {
     "data": {
      "text/plain": [
       "0        25.0\n",
       "1        24.0\n",
       "2        31.0\n",
       "3         NaN\n",
       "4        53.0\n",
       "         ... \n",
       "99995    33.0\n",
       "99996    32.0\n",
       "99997    42.0\n",
       "99998    30.0\n",
       "99999    30.0\n",
       "Name: AGE, Length: 100000, dtype: float64"
      ]
     },
     "execution_count": 13,
     "metadata": {},
     "output_type": "execute_result"
    }
   ],
   "source": [
    "df_user['AGE']"
   ]
  },
  {
   "cell_type": "code",
   "execution_count": 14,
   "metadata": {},
   "outputs": [
    {
     "name": "stdout",
     "output_type": "stream",
     "text": [
      "Summary Statistics:\n",
      "                               ID               CREATED_DATE  \\\n",
      "count                     100000                     100000   \n",
      "unique                    100000                      99942   \n",
      "top     5ef3b4f17053ab141787697d  2023-01-12 18:30:15+00:00   \n",
      "freq                           1                          2   \n",
      "first                        NaN  2014-04-18 23:14:55+00:00   \n",
      "last                         NaN  2024-09-11 17:59:15+00:00   \n",
      "mean                         NaN                        NaN   \n",
      "std                          NaN                        NaN   \n",
      "min                          NaN                        NaN   \n",
      "25%                          NaN                        NaN   \n",
      "50%                          NaN                        NaN   \n",
      "75%                          NaN                        NaN   \n",
      "max                          NaN                        NaN   \n",
      "\n",
      "                 BIRTH_DATE  STATE LANGUAGE  GENDER           AGE  \n",
      "count                 96325  95188    69492   94108  96325.000000  \n",
      "unique                21819     52        2       6           NaN  \n",
      "top     1970-01-01 00:00:00     TX       en  female           NaN  \n",
      "freq                   1280   9028    63403   64240           NaN  \n",
      "first   1900-01-01 00:00:00    NaN      NaN     NaN           NaN  \n",
      "last    2022-04-03 00:00:00    NaN      NaN     NaN           NaN  \n",
      "mean                    NaN    NaN      NaN     NaN     40.827874  \n",
      "std                     NaN    NaN      NaN     NaN     15.160172  \n",
      "min                     NaN    NaN      NaN     NaN      3.000000  \n",
      "25%                     NaN    NaN      NaN     NaN     27.000000  \n",
      "50%                     NaN    NaN      NaN     NaN     40.000000  \n",
      "75%                     NaN    NaN      NaN     NaN     51.000000  \n",
      "max                     NaN    NaN      NaN     NaN    125.000000  \n"
     ]
    },
    {
     "name": "stderr",
     "output_type": "stream",
     "text": [
      "/var/folders/5y/zz7sl85x6hg0k5mzpn16jrgm0000gn/T/ipykernel_84757/4260809153.py:2: FutureWarning: Treating datetime data as categorical rather than numeric in `.describe` is deprecated and will be removed in a future version of pandas. Specify `datetime_is_numeric=True` to silence this warning and adopt the future behavior now.\n",
      "  print(\"Summary Statistics:\\n\", df_user.describe(include='all'))\n",
      "/var/folders/5y/zz7sl85x6hg0k5mzpn16jrgm0000gn/T/ipykernel_84757/4260809153.py:2: FutureWarning: Treating datetime data as categorical rather than numeric in `.describe` is deprecated and will be removed in a future version of pandas. Specify `datetime_is_numeric=True` to silence this warning and adopt the future behavior now.\n",
      "  print(\"Summary Statistics:\\n\", df_user.describe(include='all'))\n"
     ]
    }
   ],
   "source": [
    "# Summary statistics\n",
    "print(\"Summary Statistics:\\n\", df_user.describe(include='all'))"
   ]
  },
  {
   "cell_type": "code",
   "execution_count": 15,
   "metadata": {},
   "outputs": [],
   "source": [
    "# Save the cleaned dataset\n",
    "df_user.to_csv(\"cleaned_user_takehome.csv\", index=False)"
   ]
  }
 ],
 "metadata": {
  "kernelspec": {
   "display_name": "base",
   "language": "python",
   "name": "python3"
  },
  "language_info": {
   "codemirror_mode": {
    "name": "ipython",
    "version": 3
   },
   "file_extension": ".py",
   "mimetype": "text/x-python",
   "name": "python",
   "nbconvert_exporter": "python",
   "pygments_lexer": "ipython3",
   "version": "3.9.13"
  }
 },
 "nbformat": 4,
 "nbformat_minor": 2
}
