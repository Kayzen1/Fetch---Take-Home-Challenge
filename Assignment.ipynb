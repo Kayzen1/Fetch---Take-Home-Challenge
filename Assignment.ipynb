{
 "cells": [
  {
   "cell_type": "markdown",
   "metadata": {},
   "source": [
    "## First: Explore the data"
   ]
  },
  {
   "cell_type": "markdown",
   "metadata": {},
   "source": [
    "*Assumptions:* Products: BARCODE (PK) ｜ User: ID (PK) ｜ Transaction: RECEIPT_ID (PK), USER_ID (FK), BARCODE(FK)"
   ]
  },
  {
   "cell_type": "markdown",
   "metadata": {},
   "source": [
    "### 1. Data Validation Logic"
   ]
  },
  {
   "cell_type": "markdown",
   "metadata": {},
   "source": [
    "To ensure comprehensive data quality validation, multiple perspectives need to be considered. While there are many possible approaches, based on the characteristics of these three datasets, I am focusing on **six key aspects**:\n",
    "\n",
    "**Completeness** – Check for missing values in critical fields.\n",
    "\n",
    "**Consistency** – Verify data formats and ensure uniform structure.\n",
    "\n",
    "**Accuracy** – Ensure logical consistency, such as date relationships and value ranges.\n",
    "\n",
    "**Uniqueness** – Identify duplicates in primary keys to prevent redundancy.\n",
    "\n",
    "**Referential Integrity** – Validate foreign keys to ensure data relationships are maintained.\n",
    "\n",
    "**Outliers** – Detect extreme values that may indicate data entry errors or anomalies."
   ]
  },
  {
   "cell_type": "markdown",
   "metadata": {
    "vscode": {
     "languageId": "plaintext"
    }
   },
   "source": [
    "### 2. Data Quality Issues"
   ]
  },
  {
   "cell_type": "markdown",
   "metadata": {
    "vscode": {
     "languageId": "plaintext"
    }
   },
   "source": [
    "#### 2.1 Product Table | [Code](Data%20quality%20check_Product.ipynb)"
   ]
  },
  {
   "cell_type": "markdown",
   "metadata": {},
   "source": [
    "**- Missing Values**"
   ]
  },
  {
   "cell_type": "markdown",
   "metadata": {},
   "source": [
    "| Field         | Missing Values |\n",
    "|--------------|---------------|\n",
    "| CATEGORY_1   | 111           |\n",
    "| CATEGORY_2   | 1,424         |\n",
    "| CATEGORY_3   | 60,566        |\n",
    "| CATEGORY_4   | 778,093       |\n",
    "| MANUFACTURER | 226,474       |\n",
    "| BRAND        | 226,472       |\n",
    "| BARCODE      | 4,025         |"
   ]
  },
  {
   "cell_type": "markdown",
   "metadata": {},
   "source": [
    "- CATEGORY_3 (60,000+ missing) and CATEGORY_4 is nearly 90% missing - can think about remove these columns.\n",
    "\n",
    "- MANUFACTURER and BRAND have 226,000+ missing values, possibly causing classification issues."
   ]
  },
  {
   "cell_type": "markdown",
   "metadata": {},
   "source": [
    "**- Data Format** \n",
    "- BARCODE type is float64. Should be INT accroding to the ER diagram.\n",
    "\n",
    "- Some barcodes' formats are incorrect like short barcodes (<8 digits) and long barcodes (>13 digits) \n",
    "\n",
    "![Barcode format](barcode_length.png)\n",
    "\n",
    "**- Duplicates**\n",
    "- BARCODE as primary key should not be unique and not null. Duplicate BARCODE Count is 4209 and null count is 4025."
   ]
  },
  {
   "cell_type": "markdown",
   "metadata": {},
   "source": [
    "#### 2.2 User Table | [Code](Data%20quality%20check_User.ipynb)"
   ]
  },
  {
   "cell_type": "markdown",
   "metadata": {},
   "source": [
    "**- Missing Values**"
   ]
  },
  {
   "cell_type": "markdown",
   "metadata": {},
   "source": [
    "| Field         | Missing Values |\n",
    "|--------------|---------------|\n",
    "| ID           | 0             |\n",
    "| CREATED_DATE | 0             |\n",
    "| BIRTH_DATE   | 3,675         |\n",
    "| STATE        | 4,812         |\n",
    "| LANGUAGE     | 30,508        |\n",
    "| GENDER       | 5,892         |"
   ]
  },
  {
   "cell_type": "markdown",
   "metadata": {},
   "source": [
    "\n",
    "**- Data Format**\n",
    "- CREATED_DATE and BIRTH_DATE are stored as objects (strings) instead of datetime. Should change to datetime.\n",
    "\n",
    "- GENDER has 11 unqiue values and some of them should be standardized to a single category like,\n",
    "    - 'prefer_not_to_say', 'Prefer not to say', 'not_specified', 'unknown' \n",
    "    - 'not_listed' vs. \"My gender\n",
    "    - 'non_binary' and 'Non-Binary'. Convert all values to lowercase for consistency"
   ]
  },
  {
   "cell_type": "markdown",
   "metadata": {},
   "source": [
    "#### 2.3 Transaction Table | [Code](Data%20quality%20check_Transaction.ipynb)"
   ]
  },
  {
   "cell_type": "markdown",
   "metadata": {},
   "source": [
    "**- Missing Values**"
   ]
  },
  {
   "cell_type": "markdown",
   "metadata": {},
   "source": [
    "| Field          | Missing Values |\n",
    "|---------------|---------------|\n",
    "| RECEIPT_ID    | 0             |\n",
    "| PURCHASE_DATE | 0             |\n",
    "| SCAN_DATE     | 0             |\n",
    "| STORE_NAME    | 0             |\n",
    "| USER_ID       | 0             |\n",
    "| BARCODE       | 5,762         |\n",
    "| FINAL_QUANTITY | 0            |\n",
    "| FINAL_SALE    | 0             |"
   ]
  },
  {
   "cell_type": "markdown",
   "metadata": {},
   "source": [
    "**- Date Format**\n",
    "- Accroding to the ER Diagram, RECEIPT_ID URCHASE_DATE and SCAN_DATE should be DATETIME\n",
    "- BARCODE type is float64. Should be INT accroding to the ER diagram.\n",
    "- FINAL_SALE should be NUMERIC.\n",
    "\n",
    "**- Duplicates**\n",
    "- Each RECEIPT_ID appears twice, with the only difference being either:\n",
    "    - FINAL_QUANTITY values (zero vs. any number ). \"zero\" should be changed to \"0\"\n",
    "    - FINAL_SALE values (blank vs. any number). Blanks should be changed to \"0\"\n",
    "\n",
    "**- Outliers**\n",
    "- FINAL_SALE\n",
    "    *Issue*: A few transactions have very high FINAL_SALE values (above 400), which is significantly larger than most other values.\n",
    "\n",
    "- FINAL_QUANTITY\n",
    "    *Issue*: There is a point where FINAL_QUANTITY exceeds 250, which is significantly higher than the majority of transactions.\n",
    "    \n",
    "![Quantity and Sales Distribution](final_quantity_vs_final_sale.png)\n",
    "\n",
    "\n",
    "**- Logical Consistency**\n",
    "- There are 94 records where PURCHASE_DATE is after SCAN_DATE, which is logically incorrect because a transaction cannot be scanned before it is purchased.\n",
    "\n",
    "**- Referential Integrity**\n",
    "- 17,603 transactions contain USER_IDs that do not exist in the user dataset.\n",
    "\n",
    "- 11,028 transactions reference BARCODEs that do not exist in the product dataset."
   ]
  },
  {
   "cell_type": "markdown",
   "metadata": {},
   "source": [
    "### 3. Fields that are complex to interpret"
   ]
  },
  {
   "cell_type": "markdown",
   "metadata": {},
   "source": [
    "The fields \"FINAL_SALE\" and \"FINAL_QUANTITY\" are challenging to interpret.\n",
    "\n",
    "- FINAL_QUANTITY is expected to be an integer, but many values are decimals.\n",
    "- FINAL_SALE has 480 transactions with a value of 0, possibly due to coupon usage."
   ]
  },
  {
   "cell_type": "markdown",
   "metadata": {
    "vscode": {
     "languageId": "plaintext"
    }
   },
   "source": [
    "----"
   ]
  },
  {
   "cell_type": "markdown",
   "metadata": {},
   "source": [
    "## Second: provide SQL Queries"
   ]
  },
  {
   "cell_type": "markdown",
   "metadata": {},
   "source": [
    "### Q1: What are the top 5 brands by receipts scanned among users 21 and over?\n"
   ]
  },
  {
   "cell_type": "markdown",
   "metadata": {},
   "source": [
    "```SQL\n",
    "SELECT p.BRAND, DISTINCT COUNT(t.RECEIPT_ID) AS total_receipts\n",
    "FROM TRANSACTION_TAKEHOME t\n",
    "JOIN USER_TAKEHOME u ON t.USER_ID = u.ID\n",
    "JOIN PRODUCTS_TAKEHOME p ON t.BARCODE = p.BARCODE\n",
    "WHERE DATE_PART('year', AGE(u.BIRTH_DATE)) >= 21 \n",
    "    AND p.BRAND IS NOT NULL\n",
    "    AND t.FINAL_QUANTITY != 'zero'\n",
    "    AND t.FINAL_SALE IS NOT NULL\n",
    "GROUP BY p.BRAND\n",
    "ORDER BY total_receipts DESC\n",
    "LIMIT 5;"
   ]
  },
  {
   "cell_type": "markdown",
   "metadata": {},
   "source": [
    "### Q2: What are the top 5 brands by sales among users that have had their account for at least six months?"
   ]
  },
  {
   "cell_type": "markdown",
   "metadata": {},
   "source": [
    "```SQL\n",
    "SELECT p.BRAND, SUM(t.FINAL_SALE) AS total_sales\n",
    "FROM TRANSACTION_TAKEHOME t\n",
    "JOIN USER_TAKEHOME u ON t.USER_ID = u.ID\n",
    "JOIN PRODUCTS_TAKEHOME p ON t.BARCODE = p.BARCODE\n",
    "WHERE u.CREATED_DATE <= CURRENT_DATE - INTERVAL '6 months'\n",
    "GROUP BY p.BRAND\n",
    "ORDER BY total_sales DESC\n",
    "LIMIT 5;"
   ]
  },
  {
   "cell_type": "markdown",
   "metadata": {},
   "source": [
    "### Q3: Who are Fetch’s power users?"
   ]
  },
  {
   "cell_type": "markdown",
   "metadata": {},
   "source": [
    "```sql\n",
    "/**\n",
    "Assumptions:\n",
    "Who has the most receipts (Key Factor)\n",
    "Who make the most purchases in the last 90 days (Second Factor)\n",
    "Who spend the most - FINAL_SALE (Third Factor)\n",
    "Who is active across multiple months (Fourth Factor)\n",
    "\n",
    "Find the top 25 power users\n",
    "**/\n",
    "\n",
    "WITH user_activity AS (\n",
    "    SELECT \n",
    "        t.USER_ID,\n",
    "        COUNT(DISTINCT t.RECEIPT_ID) AS total_receipts,                         -- Total receipts scanned\n",
    "        COUNT(CASE WHEN t.PURCHASE_DATE >= CURRENT_DATE - INTERVAL '90 days' THEN t.RECEIPT_ID END) AS purchases_last_90_days -- Purchases in last 90 days\n",
    "        SUM(t.FINAL_SALE) AS total_spent,                                       -- Total amount spent\n",
    "        COUNT(DISTINCT DATE_TRUNC('month', t.PURCHASE_DATE)) AS active_months,  -- Active months in transactions\n",
    "    FROM TRANSACTION_TAKEHOME t\n",
    "    JOIN USER_TAKEHOME u ON t.USER_ID = u.ID\n",
    "    WHERE t.FINAL_SALE > 0                                                      -- Exclude invalid transactions\n",
    "    GROUP BY t.USER_ID, u.CREATED_DATE\n",
    "),\n",
    "ranked_users AS (\n",
    "    SELECT \n",
    "        USER_ID,\n",
    "        total_receipts,\n",
    "        total_spent,\n",
    "        purchases_last_90_days,\n",
    "        active_months,\n",
    "        -- Weigh Score\n",
    "        (total_receipts * 0.4) + (purchases_last_90_days * 0.3) + (total_spent * 0.2) + (active_months * 0.1) AS weighted_score,\n",
    "        RANK() OVER (ORDER BY weighted_score DESC) AS user_rank\n",
    "    FROM user_activity\n",
    ")\n",
    "SELECT * FROM ranked_users WHERE user_rank <= 25;\n"
   ]
  },
  {
   "cell_type": "markdown",
   "metadata": {},
   "source": [
    "----"
   ]
  },
  {
   "cell_type": "markdown",
   "metadata": {},
   "source": [
    "## Communicate with stakeholders"
   ]
  },
  {
   "cell_type": "markdown",
   "metadata": {},
   "source": [
    "Hi Business Leader,\n",
    "\n",
    "Following up on our last meeting, I have conducted a **data quality assessment** for the three tables based on the following aspects:\n",
    "**Missing Values, Date Format, Duplicates, Outliers, Logical Consistency, and Referential Integrity**. During this assessment, I also noticed an interesting trend in the data.\n",
    "\n",
    "\n",
    "*Quality Issues:*\n",
    "\n",
    "The detailed findings are attached in three separate documents. Below, I would like to highlight key quality issues that require further discussion:\n",
    "\n",
    "![Key Issues](key%20issues.png)\n",
    "\n",
    "\n",
    "*Insight from the data:*\n",
    "\n",
    "I made some assumptions here to identify a power user which should be:\n",
    "Who has the most receipts\n",
    "Who make the most purchases in the last 90 days\n",
    "Who spend the most - FINAL_SALE\n",
    "Who is active across multiple months\n",
    "\n",
    "The results indicate that total spending heavily influences power user identification. There may be alternative approaches to defining power users, which we can discuss in our next meeting.\n",
    "\n",
    "![Trends](Trend2.png)\n",
    "\n",
    "\n",
    "I believe these data issues must be addressed promptly to ensure we accurately identify patterns and avoid missing critical insights. Resolving these issues will enhance data quality, leading to more reliable analysis that better serves our consumers and keeps us ahead of the curve.\n",
    "\n",
    "Please let me know a suitable time to schedule a meeting and consult with other stakeholders who are familiar with the data logic, so we can align on the best course of action.\n",
    "\n",
    "Best regards,\n",
    "\n",
    "Yuting"
   ]
  },
  {
   "cell_type": "markdown",
   "metadata": {},
   "source": []
  }
 ],
 "metadata": {
  "language_info": {
   "name": "python"
  }
 },
 "nbformat": 4,
 "nbformat_minor": 2
}
